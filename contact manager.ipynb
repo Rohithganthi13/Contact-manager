{
 "cells": [
  {
   "cell_type": "code",
   "execution_count": 44,
   "id": "8ac299cd-dc2a-4901-bf42-14221e878bed",
   "metadata": {},
   "outputs": [
    {
     "name": "stdout",
     "output_type": "stream",
     "text": [
      "\n",
      "Contact Manager\n",
      "1. Add Contact\n",
      "2. Display Contacts\n",
      "3. Search Contact\n",
      "4. Update Contact\n",
      "5. Filter Gmail Contacts\n",
      "6. Exit\n"
     ]
    },
    {
     "name": "stdin",
     "output_type": "stream",
     "text": [
      "Enter your choice (1-6):  5\n"
     ]
    },
    {
     "name": "stdout",
     "output_type": "stream",
     "text": [
      "\n",
      "No contacts with Gmail addresses found.\n",
      "\n",
      "\n",
      "Contact Manager\n",
      "1. Add Contact\n",
      "2. Display Contacts\n",
      "3. Search Contact\n",
      "4. Update Contact\n",
      "5. Filter Gmail Contacts\n",
      "6. Exit\n"
     ]
    },
    {
     "name": "stdin",
     "output_type": "stream",
     "text": [
      "Enter your choice (1-6):  1\n",
      "Enter contact name:  shivv\n",
      "Enter contact Phone:  9390526997\n",
      "Enter contact email:  devunishivani06@gmail.com\n"
     ]
    },
    {
     "name": "stdout",
     "output_type": "stream",
     "text": [
      "Contact 'shivv' added.\n",
      "\n",
      "\n",
      "Contact Manager\n",
      "1. Add Contact\n",
      "2. Display Contacts\n",
      "3. Search Contact\n",
      "4. Update Contact\n",
      "5. Filter Gmail Contacts\n",
      "6. Exit\n"
     ]
    },
    {
     "name": "stdin",
     "output_type": "stream",
     "text": [
      "Enter your choice (1-6):  3\n",
      "Enter the name of the contact to search: shivv\n"
     ]
    },
    {
     "name": "stdout",
     "output_type": "stream",
     "text": [
      "\n",
      "Contact found: Name:shivv, Phone: 9390526997, Email:devunishivani06@gmail.com\n",
      "\n",
      "Contact Manager\n",
      "1. Add Contact\n",
      "2. Display Contacts\n",
      "3. Search Contact\n",
      "4. Update Contact\n",
      "5. Filter Gmail Contacts\n",
      "6. Exit\n"
     ]
    },
    {
     "name": "stdin",
     "output_type": "stream",
     "text": [
      "Enter your choice (1-6):  5\n"
     ]
    },
    {
     "name": "stdout",
     "output_type": "stream",
     "text": [
      "\n",
      "Contacts with Gmail addresses:\n",
      "Name: shivv, Phone: 9390526997, Email: devunishivani06@gmail.com\n",
      "\n",
      "Contact Manager\n",
      "1. Add Contact\n",
      "2. Display Contacts\n",
      "3. Search Contact\n",
      "4. Update Contact\n",
      "5. Filter Gmail Contacts\n",
      "6. Exit\n"
     ]
    },
    {
     "name": "stdin",
     "output_type": "stream",
     "text": [
      "Enter your choice (1-6):  2\n"
     ]
    },
    {
     "name": "stdout",
     "output_type": "stream",
     "text": [
      "\n",
      "All contacts:\n",
      "Name :shivv,Phone:9390526997,Email:devunishivani06@gmail.com\n",
      "\n",
      "Contact Manager\n",
      "1. Add Contact\n",
      "2. Display Contacts\n",
      "3. Search Contact\n",
      "4. Update Contact\n",
      "5. Filter Gmail Contacts\n",
      "6. Exit\n"
     ]
    },
    {
     "name": "stdin",
     "output_type": "stream",
     "text": [
      "Enter your choice (1-6):  6\n"
     ]
    },
    {
     "name": "stdout",
     "output_type": "stream",
     "text": [
      "Exiting Contact Manager.\n"
     ]
    }
   ],
   "source": [
    "contacts={}\n",
    "def add_contacts():\n",
    "    name=input(\"Enter contact name: \")\n",
    "    phone=int(input(\"Enter contact Phone: \"))  \n",
    "    email=input(\"Enter contact email: \")\n",
    "    contacts[name]={'phone':phone, 'email':email}\n",
    "    print(f\"Contact '{name}' added.\\n\")\n",
    "def display_contacts():\n",
    "    if contacts:\n",
    "        print(\"\\nAll contacts:\")\n",
    "        for name,details in contacts.items():\n",
    "             print(f\"Name :{name},Phone:{details['phone']},Email:{details['email']}\")\n",
    "    else:\n",
    "       print(\"No contacts available.\\n\")\n",
    "def search_contact():\n",
    "    name=input(\"Enter the name of the contact to search:\")\n",
    "    if name in contacts:\n",
    "        details=contacts[name]\n",
    "        print(f\"\\nContact found: Name:{name}, Phone: {details['phone']}, Email:{details['email']}\")\n",
    "    else:\n",
    "         print(f\"\\nContact '{name}' not found.\\n\")\n",
    "def update_contact():\n",
    "    name = input(\"Enter the name of the contact to update: \")\n",
    "    if name in contacts:\n",
    "        phone = input(\"Enter new phone number (leave blank to keep current): \")\n",
    "        email = input(\"Enter new email (leave blank to keep current): \")\n",
    "        if phone:\n",
    "            contacts[name]['phone'] = phone\n",
    "        if email:\n",
    "            contacts[name]['email'] = email\n",
    "        print(f\"\\nContact '{name}' updated.\\n\")\n",
    "    else:\n",
    "        print(f\"\\nContact '{name}' not found.\\n\")\n",
    "\n",
    "def filter_gmail_contacts():\n",
    "    gmail_contacts = {name: details for name, details in contacts.items() if details['email'].endswith(\"@gmail.com\")}\n",
    "    if gmail_contacts:\n",
    "        print(\"\\nContacts with Gmail addresses:\")\n",
    "        for name, details in gmail_contacts.items():\n",
    "            print(f\"Name: {name}, Phone: {details['phone']}, Email: {details['email']}\")\n",
    "    else:\n",
    "        print(\"\\nNo contacts with Gmail addresses found.\\n\")\n",
    "\n",
    "def menu():\n",
    "    while True:\n",
    "        print(\"\\nContact Manager\")\n",
    "        print(\"1. Add Contact\")\n",
    "        print(\"2. Display Contacts\")\n",
    "        print(\"3. Search Contact\")\n",
    "        print(\"4. Update Contact\")\n",
    "        print(\"5. Filter Gmail Contacts\")\n",
    "        print(\"6. Exit\")\n",
    "\n",
    "        choice = input(\"Enter your choice (1-6): \")\n",
    "\n",
    "        if choice == '1':\n",
    "            add_contacts()\n",
    "        elif choice == '2':\n",
    "            display_contacts()\n",
    "        elif choice == '3':\n",
    "            search_contact()\n",
    "        elif choice == '4':\n",
    "            update_contact()\n",
    "        elif choice == '5':\n",
    "            filter_gmail_contacts()\n",
    "        elif choice == '6':\n",
    "            print(\"Exiting Contact Manager.\")\n",
    "            break\n",
    "        else:\n",
    "            print(\"Invalid choice. Please try again.\\n\")\n",
    "\n",
    "menu()\n"
   ]
  },
  {
   "cell_type": "code",
   "execution_count": null,
   "id": "1ec38195-7500-46de-8555-b94c980eff58",
   "metadata": {},
   "outputs": [],
   "source": []
  }
 ],
 "metadata": {
  "kernelspec": {
   "display_name": "Python 3 (ipykernel)",
   "language": "python",
   "name": "python3"
  },
  "language_info": {
   "codemirror_mode": {
    "name": "ipython",
    "version": 3
   },
   "file_extension": ".py",
   "mimetype": "text/x-python",
   "name": "python",
   "nbconvert_exporter": "python",
   "pygments_lexer": "ipython3",
   "version": "3.12.4"
  }
 },
 "nbformat": 4,
 "nbformat_minor": 5
}
